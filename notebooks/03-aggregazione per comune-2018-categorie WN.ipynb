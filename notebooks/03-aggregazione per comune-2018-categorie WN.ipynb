{
 "cells": [
  {
   "cell_type": "code",
   "execution_count": 5,
   "metadata": {},
   "outputs": [],
   "source": [
    "import pandas as pd\n",
    "import geopandas as gpd\n",
    "import datetime as dt\n",
    "import locale\n",
    "import folium\n",
    "import os"
   ]
  },
  {
   "cell_type": "markdown",
   "metadata": {},
   "source": [
    "### Comuni ISTAT 2020"
   ]
  },
  {
   "cell_type": "code",
   "execution_count": 6,
   "metadata": {},
   "outputs": [],
   "source": [
    "gdf_comuni = gpd.read_file(r\"../input/shp/comuni_istat_2020_wgs84.shp\")[['COMUNE','PRO_COM','geometry']]\n",
    "gdf_comuni.rename(columns={'PRO_COM':'CodIstat','COMUNE':'Comune'}, inplace=True)\n",
    "# gdf_comuni.head(3)"
   ]
  },
  {
   "cell_type": "markdown",
   "metadata": {},
   "source": [
    "### Focolai puliti\n",
    "\n",
    "importa i focolai già ripuliti dal precedente script"
   ]
  },
  {
   "cell_type": "code",
   "execution_count": 7,
   "metadata": {},
   "outputs": [
    {
     "ename": "FileNotFoundError",
     "evalue": "[Errno 2] No such file or directory: '../input/wn_clean.xlsx'",
     "output_type": "error",
     "traceback": [
      "\u001b[0;31m---------------------------------------------------------------------------\u001b[0m",
      "\u001b[0;31mFileNotFoundError\u001b[0m                         Traceback (most recent call last)",
      "\u001b[0;32m<ipython-input-7-ff1d9b6005b4>\u001b[0m in \u001b[0;36m<module>\u001b[0;34m\u001b[0m\n\u001b[0;32m----> 1\u001b[0;31m \u001b[0mdf_focolai\u001b[0m \u001b[0;34m=\u001b[0m \u001b[0mpd\u001b[0m\u001b[0;34m.\u001b[0m\u001b[0mread_excel\u001b[0m\u001b[0;34m(\u001b[0m\u001b[0;34mr\"../input/wn_clean.xlsx\"\u001b[0m\u001b[0;34m)\u001b[0m\u001b[0;34m\u001b[0m\u001b[0;34m\u001b[0m\u001b[0m\n\u001b[0m\u001b[1;32m      2\u001b[0m \u001b[0mdf_focolai\u001b[0m\u001b[0;34m.\u001b[0m\u001b[0mhead\u001b[0m\u001b[0;34m(\u001b[0m\u001b[0;36m3\u001b[0m\u001b[0;34m)\u001b[0m\u001b[0;34m\u001b[0m\u001b[0;34m\u001b[0m\u001b[0m\n",
      "\u001b[0;32m~/opt/anaconda3/envs/report_wn/lib/python3.7/site-packages/pandas/util/_decorators.py\u001b[0m in \u001b[0;36mwrapper\u001b[0;34m(*args, **kwargs)\u001b[0m\n\u001b[1;32m    297\u001b[0m                 )\n\u001b[1;32m    298\u001b[0m                 \u001b[0mwarnings\u001b[0m\u001b[0;34m.\u001b[0m\u001b[0mwarn\u001b[0m\u001b[0;34m(\u001b[0m\u001b[0mmsg\u001b[0m\u001b[0;34m,\u001b[0m \u001b[0mFutureWarning\u001b[0m\u001b[0;34m,\u001b[0m \u001b[0mstacklevel\u001b[0m\u001b[0;34m=\u001b[0m\u001b[0mstacklevel\u001b[0m\u001b[0;34m)\u001b[0m\u001b[0;34m\u001b[0m\u001b[0;34m\u001b[0m\u001b[0m\n\u001b[0;32m--> 299\u001b[0;31m             \u001b[0;32mreturn\u001b[0m \u001b[0mfunc\u001b[0m\u001b[0;34m(\u001b[0m\u001b[0;34m*\u001b[0m\u001b[0margs\u001b[0m\u001b[0;34m,\u001b[0m \u001b[0;34m**\u001b[0m\u001b[0mkwargs\u001b[0m\u001b[0;34m)\u001b[0m\u001b[0;34m\u001b[0m\u001b[0;34m\u001b[0m\u001b[0m\n\u001b[0m\u001b[1;32m    300\u001b[0m \u001b[0;34m\u001b[0m\u001b[0m\n\u001b[1;32m    301\u001b[0m         \u001b[0;32mreturn\u001b[0m \u001b[0mwrapper\u001b[0m\u001b[0;34m\u001b[0m\u001b[0;34m\u001b[0m\u001b[0m\n",
      "\u001b[0;32m~/opt/anaconda3/envs/report_wn/lib/python3.7/site-packages/pandas/io/excel/_base.py\u001b[0m in \u001b[0;36mread_excel\u001b[0;34m(io, sheet_name, header, names, index_col, usecols, squeeze, dtype, engine, converters, true_values, false_values, skiprows, nrows, na_values, keep_default_na, na_filter, verbose, parse_dates, date_parser, thousands, comment, skipfooter, convert_float, mangle_dupe_cols, storage_options)\u001b[0m\n\u001b[1;32m    334\u001b[0m     \u001b[0;32mif\u001b[0m \u001b[0;32mnot\u001b[0m \u001b[0misinstance\u001b[0m\u001b[0;34m(\u001b[0m\u001b[0mio\u001b[0m\u001b[0;34m,\u001b[0m \u001b[0mExcelFile\u001b[0m\u001b[0;34m)\u001b[0m\u001b[0;34m:\u001b[0m\u001b[0;34m\u001b[0m\u001b[0;34m\u001b[0m\u001b[0m\n\u001b[1;32m    335\u001b[0m         \u001b[0mshould_close\u001b[0m \u001b[0;34m=\u001b[0m \u001b[0;32mTrue\u001b[0m\u001b[0;34m\u001b[0m\u001b[0;34m\u001b[0m\u001b[0m\n\u001b[0;32m--> 336\u001b[0;31m         \u001b[0mio\u001b[0m \u001b[0;34m=\u001b[0m \u001b[0mExcelFile\u001b[0m\u001b[0;34m(\u001b[0m\u001b[0mio\u001b[0m\u001b[0;34m,\u001b[0m \u001b[0mstorage_options\u001b[0m\u001b[0;34m=\u001b[0m\u001b[0mstorage_options\u001b[0m\u001b[0;34m,\u001b[0m \u001b[0mengine\u001b[0m\u001b[0;34m=\u001b[0m\u001b[0mengine\u001b[0m\u001b[0;34m)\u001b[0m\u001b[0;34m\u001b[0m\u001b[0;34m\u001b[0m\u001b[0m\n\u001b[0m\u001b[1;32m    337\u001b[0m     \u001b[0;32melif\u001b[0m \u001b[0mengine\u001b[0m \u001b[0;32mand\u001b[0m \u001b[0mengine\u001b[0m \u001b[0;34m!=\u001b[0m \u001b[0mio\u001b[0m\u001b[0;34m.\u001b[0m\u001b[0mengine\u001b[0m\u001b[0;34m:\u001b[0m\u001b[0;34m\u001b[0m\u001b[0;34m\u001b[0m\u001b[0m\n\u001b[1;32m    338\u001b[0m         raise ValueError(\n",
      "\u001b[0;32m~/opt/anaconda3/envs/report_wn/lib/python3.7/site-packages/pandas/io/excel/_base.py\u001b[0m in \u001b[0;36m__init__\u001b[0;34m(self, path_or_buffer, engine, storage_options)\u001b[0m\n\u001b[1;32m   1061\u001b[0m             \u001b[0;31m# path_or_buffer is path-like, use stringified path\u001b[0m\u001b[0;34m\u001b[0m\u001b[0;34m\u001b[0m\u001b[0;34m\u001b[0m\u001b[0m\n\u001b[1;32m   1062\u001b[0m             ext = inspect_excel_format(\n\u001b[0;32m-> 1063\u001b[0;31m                 \u001b[0mpath\u001b[0m\u001b[0;34m=\u001b[0m\u001b[0mstr\u001b[0m\u001b[0;34m(\u001b[0m\u001b[0mself\u001b[0m\u001b[0;34m.\u001b[0m\u001b[0m_io\u001b[0m\u001b[0;34m)\u001b[0m\u001b[0;34m,\u001b[0m \u001b[0mstorage_options\u001b[0m\u001b[0;34m=\u001b[0m\u001b[0mstorage_options\u001b[0m\u001b[0;34m\u001b[0m\u001b[0;34m\u001b[0m\u001b[0m\n\u001b[0m\u001b[1;32m   1064\u001b[0m             )\n\u001b[1;32m   1065\u001b[0m \u001b[0;34m\u001b[0m\u001b[0m\n",
      "\u001b[0;32m~/opt/anaconda3/envs/report_wn/lib/python3.7/site-packages/pandas/io/excel/_base.py\u001b[0m in \u001b[0;36minspect_excel_format\u001b[0;34m(path, content, storage_options)\u001b[0m\n\u001b[1;32m    937\u001b[0m \u001b[0;34m\u001b[0m\u001b[0m\n\u001b[1;32m    938\u001b[0m     with get_handle(\n\u001b[0;32m--> 939\u001b[0;31m         \u001b[0mcontent_or_path\u001b[0m\u001b[0;34m,\u001b[0m \u001b[0;34m\"rb\"\u001b[0m\u001b[0;34m,\u001b[0m \u001b[0mstorage_options\u001b[0m\u001b[0;34m=\u001b[0m\u001b[0mstorage_options\u001b[0m\u001b[0;34m,\u001b[0m \u001b[0mis_text\u001b[0m\u001b[0;34m=\u001b[0m\u001b[0;32mFalse\u001b[0m\u001b[0;34m\u001b[0m\u001b[0;34m\u001b[0m\u001b[0m\n\u001b[0m\u001b[1;32m    940\u001b[0m     ) as handle:\n\u001b[1;32m    941\u001b[0m         \u001b[0mstream\u001b[0m \u001b[0;34m=\u001b[0m \u001b[0mhandle\u001b[0m\u001b[0;34m.\u001b[0m\u001b[0mhandle\u001b[0m\u001b[0;34m\u001b[0m\u001b[0;34m\u001b[0m\u001b[0m\n",
      "\u001b[0;32m~/opt/anaconda3/envs/report_wn/lib/python3.7/site-packages/pandas/io/common.py\u001b[0m in \u001b[0;36mget_handle\u001b[0;34m(path_or_buf, mode, encoding, compression, memory_map, is_text, errors, storage_options)\u001b[0m\n\u001b[1;32m    646\u001b[0m         \u001b[0;32melse\u001b[0m\u001b[0;34m:\u001b[0m\u001b[0;34m\u001b[0m\u001b[0;34m\u001b[0m\u001b[0m\n\u001b[1;32m    647\u001b[0m             \u001b[0;31m# Binary mode\u001b[0m\u001b[0;34m\u001b[0m\u001b[0;34m\u001b[0m\u001b[0;34m\u001b[0m\u001b[0m\n\u001b[0;32m--> 648\u001b[0;31m             \u001b[0mhandle\u001b[0m \u001b[0;34m=\u001b[0m \u001b[0mopen\u001b[0m\u001b[0;34m(\u001b[0m\u001b[0mhandle\u001b[0m\u001b[0;34m,\u001b[0m \u001b[0mioargs\u001b[0m\u001b[0;34m.\u001b[0m\u001b[0mmode\u001b[0m\u001b[0;34m)\u001b[0m\u001b[0;34m\u001b[0m\u001b[0;34m\u001b[0m\u001b[0m\n\u001b[0m\u001b[1;32m    649\u001b[0m         \u001b[0mhandles\u001b[0m\u001b[0;34m.\u001b[0m\u001b[0mappend\u001b[0m\u001b[0;34m(\u001b[0m\u001b[0mhandle\u001b[0m\u001b[0;34m)\u001b[0m\u001b[0;34m\u001b[0m\u001b[0;34m\u001b[0m\u001b[0m\n\u001b[1;32m    650\u001b[0m \u001b[0;34m\u001b[0m\u001b[0m\n",
      "\u001b[0;31mFileNotFoundError\u001b[0m: [Errno 2] No such file or directory: '../input/wn_clean.xlsx'"
     ]
    }
   ],
   "source": [
    "df_focolai = pd.read_excel(r\"../input/wn_clean.xlsx\")\n",
    "df_focolai.head(3)"
   ]
  },
  {
   "cell_type": "markdown",
   "metadata": {},
   "source": [
    "## Aggregazioni (anno 2018)"
   ]
  },
  {
   "cell_type": "code",
   "execution_count": null,
   "metadata": {},
   "outputs": [],
   "source": [
    "# EQUIDI\n",
    "equidi = df_focolai[[\"DataSospetto\",\"IdFocolaio\",\"CodIstat\",\"Specie\",\"Categorie\",\"Sierotipo\"]].query(\"DataSospetto >= '2018-01-01' & DataSospetto <= '2018-12-31' & Categorie == 'EQUIDI'\")\n",
    "equidi_aggreg = equidi.groupby(['CodIstat'])[\"CodIstat\"].count().reset_index(name=\"count\")\n",
    "\n",
    "# AVICOLI\n",
    "avicoli = df_focolai[[\"DataSospetto\",\"IdFocolaio\",\"CodIstat\",\"Specie\",\"Categorie\",\"Sierotipo\"]].query(\"DataSospetto >= '2018-01-01' & DataSospetto <= '2018-12-31' & Categorie == 'AVICOLI'\")\n",
    "avicoli_aggreg = avicoli.groupby(['CodIstat'])[\"CodIstat\"].count().reset_index(name=\"count\")\n",
    "\n",
    "# UCCELLI SELVATICI\n",
    "uccelli_selv = df_focolai[[\"DataSospetto\",\"IdFocolaio\",\"CodIstat\",\"Specie\",\"Categorie\",\"Sierotipo\"]].query(\"DataSospetto >= '2018-01-01' & DataSospetto <= '2018-12-31' & Categorie == 'UCCELLI SELVATICI'\")\n",
    "uccelli_selv_aggreg = uccelli_selv.groupby(['CodIstat'])[\"CodIstat\"].count().reset_index(name=\"count\")\n",
    "\n",
    "# UCCELLI TARGET\n",
    "uccelli_targ = df_focolai[[\"DataSospetto\",\"IdFocolaio\",\"CodIstat\",\"Specie\",\"Categorie\",\"Sierotipo\"]].query(\"DataSospetto >= '2018-01-01' & DataSospetto <= '2018-12-31' & Categorie == 'UCCELLI TARGET'\")\n",
    "uccelli_targ_aggreg = uccelli_targ.groupby(['CodIstat'])[\"CodIstat\"].count().reset_index(name=\"count\")\n",
    "\n",
    "# INSETTI\n",
    "insetti = df_focolai[[\"DataSospetto\",\"IdFocolaio\",\"CodIstat\",\"Specie\",\"Categorie\",\"Sierotipo\"]].query(\"DataSospetto >= '2018-01-01' & DataSospetto <= '2018-12-31' & Categorie == 'INSETTI'\")\n",
    "insetti_aggreg = insetti.groupby(['CodIstat'])[\"CodIstat\"].count().reset_index(name=\"count\")"
   ]
  },
  {
   "cell_type": "markdown",
   "metadata": {},
   "source": [
    "### join con i comuni"
   ]
  },
  {
   "cell_type": "code",
   "execution_count": null,
   "metadata": {},
   "outputs": [],
   "source": [
    "equidi_per_comune = gdf_comuni.merge(equidi_aggreg, on='CodIstat')\n",
    "avicoli_per_comune = gdf_comuni.merge(avicoli_aggreg, on='CodIstat')\n",
    "uccelli_selv_per_comune = gdf_comuni.merge(uccelli_selv_aggreg, on='CodIstat')\n",
    "uccelli_targ_per_comune = gdf_comuni.merge(uccelli_targ_aggreg, on='CodIstat')\n",
    "insetti_per_comune = gdf_comuni.merge(insetti_aggreg, on='CodIstat')"
   ]
  },
  {
   "cell_type": "markdown",
   "metadata": {},
   "source": [
    "### Mappa aggregazioni per Comune"
   ]
  },
  {
   "cell_type": "code",
   "execution_count": null,
   "metadata": {},
   "outputs": [],
   "source": [
    "map = folium.Map([42.783333, 12.866667], zoom_start=5, tiles='openstreetmap')\n",
    "\n",
    "dist_equidi = folium.features.GeoJson(\n",
    "    equidi_per_comune.to_json(), \n",
    "    name='Equidi', \n",
    "    style_function=lambda x: {'fillColor':'#FF0000','fillOpacity': 0.75, 'color':'#CC0000','weight':0.5},\n",
    "    show=True)\n",
    "\n",
    "dist_avicoli = folium.features.GeoJson(\n",
    "    avicoli_per_comune.to_json(), \n",
    "    name='Avicoli', \n",
    "    style_function=lambda x: {'fillColor':'#FF0000','fillOpacity': 0.75, 'color':'#CC0000','weight':0.5},\n",
    "    show=False)\n",
    "\n",
    "dist_ucc_selv = folium.features.GeoJson(\n",
    "    uccelli_selv_per_comune.to_json(), \n",
    "    name='Uccelli Selvatici', \n",
    "    style_function=lambda x: {'fillColor':'#FF0000','fillOpacity': 0.75, 'color':'#CC0000','weight':0.5},\n",
    "    show=False)\n",
    "\n",
    "dist_ucc_targ = folium.features.GeoJson(\n",
    "    uccelli_targ_per_comune.to_json(), \n",
    "    name='Uccelli Target', \n",
    "    style_function=lambda x: {'fillColor':'#FF0000','fillOpacity': 0.75, 'color':'#CC0000','weight':0.5},\n",
    "    show=False)\n",
    "\n",
    "dist_insetti = folium.features.GeoJson(\n",
    "    insetti_per_comune.to_json(), \n",
    "    name='Insetti', \n",
    "    style_function=lambda x: {'fillColor':'#FF0000','fillOpacity': 0.75, 'color':'#CC0000','weight':0.5},\n",
    "    show=False)\n",
    "\n",
    "map.add_child(dist_equidi)\n",
    "map.add_child(dist_avicoli)\n",
    "map.add_child(dist_ucc_selv)\n",
    "map.add_child(dist_ucc_targ)\n",
    "map.add_child(dist_insetti)\n",
    "\n",
    "map.add_child(folium.LayerControl())\n",
    "\n",
    "map"
   ]
  },
  {
   "cell_type": "code",
   "execution_count": null,
   "metadata": {},
   "outputs": [],
   "source": []
  }
 ],
 "metadata": {
  "kernelspec": {
   "display_name": "report_wn_kernel",
   "language": "python",
   "name": "report_wn_kernel"
  },
  "language_info": {
   "codemirror_mode": {
    "name": "ipython",
    "version": 3
   },
   "file_extension": ".py",
   "mimetype": "text/x-python",
   "name": "python",
   "nbconvert_exporter": "python",
   "pygments_lexer": "ipython3",
   "version": "3.7.7"
  }
 },
 "nbformat": 4,
 "nbformat_minor": 4
}
