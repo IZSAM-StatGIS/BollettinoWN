{
 "cells": [
  {
   "cell_type": "code",
   "execution_count": 2,
   "metadata": {},
   "outputs": [],
   "source": [
    "import pandas as pd\n",
    "import geopandas as gpd\n",
    "import datetime as dt\n",
    "import locale\n",
    "import folium\n",
    "import os"
   ]
  },
  {
   "cell_type": "markdown",
   "metadata": {},
   "source": [
    "### Comuni ISTAT 2020"
   ]
  },
  {
   "cell_type": "code",
   "execution_count": 3,
   "metadata": {},
   "outputs": [
    {
     "ename": "DriverError",
     "evalue": "../input/comuni_istat_2020_wgs84.shp: No such file or directory",
     "output_type": "error",
     "traceback": [
      "\u001b[0;31m---------------------------------------------------------------------------\u001b[0m",
      "\u001b[0;31mCPLE_OpenFailedError\u001b[0m                      Traceback (most recent call last)",
      "\u001b[0;32mfiona/_shim.pyx\u001b[0m in \u001b[0;36mfiona._shim.gdal_open_vector\u001b[0;34m()\u001b[0m\n",
      "\u001b[0;32mfiona/_err.pyx\u001b[0m in \u001b[0;36mfiona._err.exc_wrap_pointer\u001b[0;34m()\u001b[0m\n",
      "\u001b[0;31mCPLE_OpenFailedError\u001b[0m: ../input/comuni_istat_2020_wgs84.shp: No such file or directory",
      "\nDuring handling of the above exception, another exception occurred:\n",
      "\u001b[0;31mDriverError\u001b[0m                               Traceback (most recent call last)",
      "\u001b[0;32m<ipython-input-3-259d64f17e35>\u001b[0m in \u001b[0;36m<module>\u001b[0;34m\u001b[0m\n\u001b[0;32m----> 1\u001b[0;31m \u001b[0mgdf_comuni\u001b[0m \u001b[0;34m=\u001b[0m \u001b[0mgpd\u001b[0m\u001b[0;34m.\u001b[0m\u001b[0mread_file\u001b[0m\u001b[0;34m(\u001b[0m\u001b[0;34mr\"../input/comuni_istat_2020_wgs84.shp\"\u001b[0m\u001b[0;34m)\u001b[0m\u001b[0;34m[\u001b[0m\u001b[0;34m[\u001b[0m\u001b[0;34m'COMUNE'\u001b[0m\u001b[0;34m,\u001b[0m\u001b[0;34m'PRO_COM'\u001b[0m\u001b[0;34m,\u001b[0m\u001b[0;34m'geometry'\u001b[0m\u001b[0;34m]\u001b[0m\u001b[0;34m]\u001b[0m\u001b[0;34m\u001b[0m\u001b[0;34m\u001b[0m\u001b[0m\n\u001b[0m\u001b[1;32m      2\u001b[0m \u001b[0mgdf_comuni\u001b[0m\u001b[0;34m.\u001b[0m\u001b[0mrename\u001b[0m\u001b[0;34m(\u001b[0m\u001b[0mcolumns\u001b[0m\u001b[0;34m=\u001b[0m\u001b[0;34m{\u001b[0m\u001b[0;34m'PRO_COM'\u001b[0m\u001b[0;34m:\u001b[0m\u001b[0;34m'CodIstat'\u001b[0m\u001b[0;34m,\u001b[0m\u001b[0;34m'COMUNE'\u001b[0m\u001b[0;34m:\u001b[0m\u001b[0;34m'Comune'\u001b[0m\u001b[0;34m}\u001b[0m\u001b[0;34m,\u001b[0m \u001b[0minplace\u001b[0m\u001b[0;34m=\u001b[0m\u001b[0;32mTrue\u001b[0m\u001b[0;34m)\u001b[0m\u001b[0;34m\u001b[0m\u001b[0;34m\u001b[0m\u001b[0m\n\u001b[1;32m      3\u001b[0m \u001b[0;31m# gdf_comuni.head(3)\u001b[0m\u001b[0;34m\u001b[0m\u001b[0;34m\u001b[0m\u001b[0;34m\u001b[0m\u001b[0m\n",
      "\u001b[0;32m~/opt/anaconda3/envs/report_wn/lib/python3.7/site-packages/geopandas/io/file.py\u001b[0m in \u001b[0;36m_read_file\u001b[0;34m(filename, bbox, mask, rows, **kwargs)\u001b[0m\n\u001b[1;32m     94\u001b[0m \u001b[0;34m\u001b[0m\u001b[0m\n\u001b[1;32m     95\u001b[0m     \u001b[0;32mwith\u001b[0m \u001b[0mfiona_env\u001b[0m\u001b[0;34m(\u001b[0m\u001b[0;34m)\u001b[0m\u001b[0;34m:\u001b[0m\u001b[0;34m\u001b[0m\u001b[0;34m\u001b[0m\u001b[0m\n\u001b[0;32m---> 96\u001b[0;31m         \u001b[0;32mwith\u001b[0m \u001b[0mreader\u001b[0m\u001b[0;34m(\u001b[0m\u001b[0mpath_or_bytes\u001b[0m\u001b[0;34m,\u001b[0m \u001b[0;34m**\u001b[0m\u001b[0mkwargs\u001b[0m\u001b[0;34m)\u001b[0m \u001b[0;32mas\u001b[0m \u001b[0mfeatures\u001b[0m\u001b[0;34m:\u001b[0m\u001b[0;34m\u001b[0m\u001b[0;34m\u001b[0m\u001b[0m\n\u001b[0m\u001b[1;32m     97\u001b[0m \u001b[0;34m\u001b[0m\u001b[0m\n\u001b[1;32m     98\u001b[0m             \u001b[0;31m# In a future Fiona release the crs attribute of features will\u001b[0m\u001b[0;34m\u001b[0m\u001b[0;34m\u001b[0m\u001b[0;34m\u001b[0m\u001b[0m\n",
      "\u001b[0;32m~/opt/anaconda3/envs/report_wn/lib/python3.7/site-packages/fiona/env.py\u001b[0m in \u001b[0;36mwrapper\u001b[0;34m(*args, **kwargs)\u001b[0m\n\u001b[1;32m    396\u001b[0m     \u001b[0;32mdef\u001b[0m \u001b[0mwrapper\u001b[0m\u001b[0;34m(\u001b[0m\u001b[0;34m*\u001b[0m\u001b[0margs\u001b[0m\u001b[0;34m,\u001b[0m \u001b[0;34m**\u001b[0m\u001b[0mkwargs\u001b[0m\u001b[0;34m)\u001b[0m\u001b[0;34m:\u001b[0m\u001b[0;34m\u001b[0m\u001b[0;34m\u001b[0m\u001b[0m\n\u001b[1;32m    397\u001b[0m         \u001b[0;32mif\u001b[0m \u001b[0mlocal\u001b[0m\u001b[0;34m.\u001b[0m\u001b[0m_env\u001b[0m\u001b[0;34m:\u001b[0m\u001b[0;34m\u001b[0m\u001b[0;34m\u001b[0m\u001b[0m\n\u001b[0;32m--> 398\u001b[0;31m             \u001b[0;32mreturn\u001b[0m \u001b[0mf\u001b[0m\u001b[0;34m(\u001b[0m\u001b[0;34m*\u001b[0m\u001b[0margs\u001b[0m\u001b[0;34m,\u001b[0m \u001b[0;34m**\u001b[0m\u001b[0mkwargs\u001b[0m\u001b[0;34m)\u001b[0m\u001b[0;34m\u001b[0m\u001b[0;34m\u001b[0m\u001b[0m\n\u001b[0m\u001b[1;32m    399\u001b[0m         \u001b[0;32melse\u001b[0m\u001b[0;34m:\u001b[0m\u001b[0;34m\u001b[0m\u001b[0;34m\u001b[0m\u001b[0m\n\u001b[1;32m    400\u001b[0m             \u001b[0;32mif\u001b[0m \u001b[0misinstance\u001b[0m\u001b[0;34m(\u001b[0m\u001b[0margs\u001b[0m\u001b[0;34m[\u001b[0m\u001b[0;36m0\u001b[0m\u001b[0;34m]\u001b[0m\u001b[0;34m,\u001b[0m \u001b[0mstr\u001b[0m\u001b[0;34m)\u001b[0m\u001b[0;34m:\u001b[0m\u001b[0;34m\u001b[0m\u001b[0;34m\u001b[0m\u001b[0m\n",
      "\u001b[0;32m~/opt/anaconda3/envs/report_wn/lib/python3.7/site-packages/fiona/__init__.py\u001b[0m in \u001b[0;36mopen\u001b[0;34m(fp, mode, driver, schema, crs, encoding, layer, vfs, enabled_drivers, crs_wkt, **kwargs)\u001b[0m\n\u001b[1;32m    252\u001b[0m         \u001b[0;32mif\u001b[0m \u001b[0mmode\u001b[0m \u001b[0;32min\u001b[0m \u001b[0;34m(\u001b[0m\u001b[0;34m'a'\u001b[0m\u001b[0;34m,\u001b[0m \u001b[0;34m'r'\u001b[0m\u001b[0;34m)\u001b[0m\u001b[0;34m:\u001b[0m\u001b[0;34m\u001b[0m\u001b[0;34m\u001b[0m\u001b[0m\n\u001b[1;32m    253\u001b[0m             c = Collection(path, mode, driver=driver, encoding=encoding,\n\u001b[0;32m--> 254\u001b[0;31m                            layer=layer, enabled_drivers=enabled_drivers, **kwargs)\n\u001b[0m\u001b[1;32m    255\u001b[0m         \u001b[0;32melif\u001b[0m \u001b[0mmode\u001b[0m \u001b[0;34m==\u001b[0m \u001b[0;34m'w'\u001b[0m\u001b[0;34m:\u001b[0m\u001b[0;34m\u001b[0m\u001b[0;34m\u001b[0m\u001b[0m\n\u001b[1;32m    256\u001b[0m             \u001b[0;32mif\u001b[0m \u001b[0mschema\u001b[0m\u001b[0;34m:\u001b[0m\u001b[0;34m\u001b[0m\u001b[0;34m\u001b[0m\u001b[0m\n",
      "\u001b[0;32m~/opt/anaconda3/envs/report_wn/lib/python3.7/site-packages/fiona/collection.py\u001b[0m in \u001b[0;36m__init__\u001b[0;34m(self, path, mode, driver, schema, crs, encoding, layer, vsi, archive, enabled_drivers, crs_wkt, ignore_fields, ignore_geometry, **kwargs)\u001b[0m\n\u001b[1;32m    152\u001b[0m             \u001b[0;32mif\u001b[0m \u001b[0mself\u001b[0m\u001b[0;34m.\u001b[0m\u001b[0mmode\u001b[0m \u001b[0;34m==\u001b[0m \u001b[0;34m'r'\u001b[0m\u001b[0;34m:\u001b[0m\u001b[0;34m\u001b[0m\u001b[0;34m\u001b[0m\u001b[0m\n\u001b[1;32m    153\u001b[0m                 \u001b[0mself\u001b[0m\u001b[0;34m.\u001b[0m\u001b[0msession\u001b[0m \u001b[0;34m=\u001b[0m \u001b[0mSession\u001b[0m\u001b[0;34m(\u001b[0m\u001b[0;34m)\u001b[0m\u001b[0;34m\u001b[0m\u001b[0;34m\u001b[0m\u001b[0m\n\u001b[0;32m--> 154\u001b[0;31m                 \u001b[0mself\u001b[0m\u001b[0;34m.\u001b[0m\u001b[0msession\u001b[0m\u001b[0;34m.\u001b[0m\u001b[0mstart\u001b[0m\u001b[0;34m(\u001b[0m\u001b[0mself\u001b[0m\u001b[0;34m,\u001b[0m \u001b[0;34m**\u001b[0m\u001b[0mkwargs\u001b[0m\u001b[0;34m)\u001b[0m\u001b[0;34m\u001b[0m\u001b[0;34m\u001b[0m\u001b[0m\n\u001b[0m\u001b[1;32m    155\u001b[0m             \u001b[0;32melif\u001b[0m \u001b[0mself\u001b[0m\u001b[0;34m.\u001b[0m\u001b[0mmode\u001b[0m \u001b[0;32min\u001b[0m \u001b[0;34m(\u001b[0m\u001b[0;34m'a'\u001b[0m\u001b[0;34m,\u001b[0m \u001b[0;34m'w'\u001b[0m\u001b[0;34m)\u001b[0m\u001b[0;34m:\u001b[0m\u001b[0;34m\u001b[0m\u001b[0;34m\u001b[0m\u001b[0m\n\u001b[1;32m    156\u001b[0m                 \u001b[0mself\u001b[0m\u001b[0;34m.\u001b[0m\u001b[0msession\u001b[0m \u001b[0;34m=\u001b[0m \u001b[0mWritingSession\u001b[0m\u001b[0;34m(\u001b[0m\u001b[0;34m)\u001b[0m\u001b[0;34m\u001b[0m\u001b[0;34m\u001b[0m\u001b[0m\n",
      "\u001b[0;32mfiona/ogrext.pyx\u001b[0m in \u001b[0;36mfiona.ogrext.Session.start\u001b[0;34m()\u001b[0m\n",
      "\u001b[0;32mfiona/_shim.pyx\u001b[0m in \u001b[0;36mfiona._shim.gdal_open_vector\u001b[0;34m()\u001b[0m\n",
      "\u001b[0;31mDriverError\u001b[0m: ../input/comuni_istat_2020_wgs84.shp: No such file or directory"
     ]
    }
   ],
   "source": [
    "gdf_comuni = gpd.read_file(r\"../input/shp/comuni_istat_2020_wgs84.shp\")[['COMUNE','PRO_COM','geometry']]\n",
    "gdf_comuni.rename(columns={'PRO_COM':'CodIstat','COMUNE':'Comune'}, inplace=True)\n",
    "# gdf_comuni.head(3)"
   ]
  },
  {
   "cell_type": "markdown",
   "metadata": {},
   "source": [
    "### Focolai puliti\n",
    "\n",
    "importa i focolai già ripuliti dal precedente script"
   ]
  },
  {
   "cell_type": "code",
   "execution_count": null,
   "metadata": {},
   "outputs": [],
   "source": [
    "df_focolai = pd.read_excel(r\"../output/focolai_wn.xlsx\")\n",
    "df_focolai.head(3)"
   ]
  },
  {
   "cell_type": "markdown",
   "metadata": {},
   "source": [
    "## Aggregazioni (anno 2018)"
   ]
  },
  {
   "cell_type": "code",
   "execution_count": null,
   "metadata": {},
   "outputs": [],
   "source": [
    "# EQUIDI\n",
    "equidi = df_focolai[[\"DataSospetto\",\"IdFocolaio\",\"CodIstat\",\"Specie\",\"Categorie\",\"Sierotipo\"]].query(\"DataSospetto >= '2018-01-01' & DataSospetto <= '2018-12-31' & Categorie == 'EQUIDI'\")\n",
    "equidi_aggreg = equidi.groupby(['CodIstat'])[\"CodIstat\"].count().reset_index(name=\"count\")\n",
    "\n",
    "# AVICOLI\n",
    "avicoli = df_focolai[[\"DataSospetto\",\"IdFocolaio\",\"CodIstat\",\"Specie\",\"Categorie\",\"Sierotipo\"]].query(\"DataSospetto >= '2018-01-01' & DataSospetto <= '2018-12-31' & Categorie == 'AVICOLI'\")\n",
    "avicoli_aggreg = avicoli.groupby(['CodIstat'])[\"CodIstat\"].count().reset_index(name=\"count\")\n",
    "\n",
    "# UCCELLI SELVATICI\n",
    "uccelli_selv = df_focolai[[\"DataSospetto\",\"IdFocolaio\",\"CodIstat\",\"Specie\",\"Categorie\",\"Sierotipo\"]].query(\"DataSospetto >= '2018-01-01' & DataSospetto <= '2018-12-31' & Categorie == 'UCCELLI SELVATICI'\")\n",
    "uccelli_selv_aggreg = uccelli_selv.groupby(['CodIstat'])[\"CodIstat\"].count().reset_index(name=\"count\")\n",
    "\n",
    "# UCCELLI TARGET\n",
    "uccelli_targ = df_focolai[[\"DataSospetto\",\"IdFocolaio\",\"CodIstat\",\"Specie\",\"Categorie\",\"Sierotipo\"]].query(\"DataSospetto >= '2018-01-01' & DataSospetto <= '2018-12-31' & Categorie == 'UCCELLI TARGET'\")\n",
    "uccelli_targ_aggreg = uccelli_targ.groupby(['CodIstat'])[\"CodIstat\"].count().reset_index(name=\"count\")\n",
    "\n",
    "# INSETTI\n",
    "insetti = df_focolai[[\"DataSospetto\",\"IdFocolaio\",\"CodIstat\",\"Specie\",\"Categorie\",\"Sierotipo\"]].query(\"DataSospetto >= '2018-01-01' & DataSospetto <= '2018-12-31' & Categorie == 'INSETTI'\")\n",
    "insetti_aggreg = insetti.groupby(['CodIstat'])[\"CodIstat\"].count().reset_index(name=\"count\")"
   ]
  },
  {
   "cell_type": "markdown",
   "metadata": {},
   "source": [
    "### join con i comuni"
   ]
  },
  {
   "cell_type": "code",
   "execution_count": null,
   "metadata": {},
   "outputs": [],
   "source": [
    "equidi_per_comune = gdf_comuni.merge(equidi_aggreg, on='CodIstat')\n",
    "avicoli_per_comune = gdf_comuni.merge(avicoli_aggreg, on='CodIstat')\n",
    "uccelli_selv_per_comune = gdf_comuni.merge(uccelli_selv_aggreg, on='CodIstat')\n",
    "uccelli_targ_per_comune = gdf_comuni.merge(uccelli_targ_aggreg, on='CodIstat')\n",
    "insetti_per_comune = gdf_comuni.merge(insetti_aggreg, on='CodIstat')"
   ]
  },
  {
   "cell_type": "markdown",
   "metadata": {},
   "source": [
    "### Mappa aggregazioni per Comune"
   ]
  },
  {
   "cell_type": "code",
   "execution_count": null,
   "metadata": {},
   "outputs": [],
   "source": [
    "map = folium.Map([42.783333, 12.866667], zoom_start=5, tiles='openstreetmap')\n",
    "\n",
    "dist_equidi = folium.features.GeoJson(\n",
    "    equidi_per_comune.to_json(), \n",
    "    name='Equidi', \n",
    "    style_function=lambda x: {'fillColor':'#FF0000','fillOpacity': 0.75, 'color':'#CC0000','weight':0.5},\n",
    "    show=True)\n",
    "\n",
    "dist_avicoli = folium.features.GeoJson(\n",
    "    avicoli_per_comune.to_json(), \n",
    "    name='Avicoli', \n",
    "    style_function=lambda x: {'fillColor':'#FF0000','fillOpacity': 0.75, 'color':'#CC0000','weight':0.5},\n",
    "    show=False)\n",
    "\n",
    "dist_ucc_selv = folium.features.GeoJson(\n",
    "    uccelli_selv_per_comune.to_json(), \n",
    "    name='Uccelli Selvatici', \n",
    "    style_function=lambda x: {'fillColor':'#FF0000','fillOpacity': 0.75, 'color':'#CC0000','weight':0.5},\n",
    "    show=False)\n",
    "\n",
    "dist_ucc_targ = folium.features.GeoJson(\n",
    "    uccelli_targ_per_comune.to_json(), \n",
    "    name='Uccelli Target', \n",
    "    style_function=lambda x: {'fillColor':'#FF0000','fillOpacity': 0.75, 'color':'#CC0000','weight':0.5},\n",
    "    show=False)\n",
    "\n",
    "dist_insetti = folium.features.GeoJson(\n",
    "    insetti_per_comune.to_json(), \n",
    "    name='Insetti', \n",
    "    style_function=lambda x: {'fillColor':'#FF0000','fillOpacity': 0.75, 'color':'#CC0000','weight':0.5},\n",
    "    show=False)\n",
    "\n",
    "map.add_child(dist_equidi)\n",
    "map.add_child(dist_avicoli)\n",
    "map.add_child(dist_ucc_selv)\n",
    "map.add_child(dist_ucc_targ)\n",
    "map.add_child(dist_insetti)\n",
    "\n",
    "map.add_child(folium.LayerControl())\n",
    "\n",
    "map"
   ]
  },
  {
   "cell_type": "code",
   "execution_count": null,
   "metadata": {},
   "outputs": [],
   "source": []
  }
 ],
 "metadata": {
  "kernelspec": {
   "display_name": "report_wn_kernel",
   "language": "python",
   "name": "report_wn_kernel"
  },
  "language_info": {
   "codemirror_mode": {
    "name": "ipython",
    "version": 3
   },
   "file_extension": ".py",
   "mimetype": "text/x-python",
   "name": "python",
   "nbconvert_exporter": "python",
   "pygments_lexer": "ipython3",
   "version": "3.7.7"
  }
 },
 "nbformat": 4,
 "nbformat_minor": 4
}
