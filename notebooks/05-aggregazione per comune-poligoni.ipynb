{
 "cells": [
  {
   "cell_type": "code",
   "execution_count": 1,
   "metadata": {},
   "outputs": [],
   "source": [
    "import pandas as pd\n",
    "import geopandas as gpd\n",
    "import datetime as dt\n",
    "import locale\n",
    "import folium\n",
    "import os"
   ]
  },
  {
   "cell_type": "markdown",
   "metadata": {},
   "source": [
    "### Comuni ISTAT 2020"
   ]
  },
  {
   "cell_type": "code",
   "execution_count": 2,
   "metadata": {},
   "outputs": [],
   "source": [
    "gdf_comuni = gpd.read_file(r\"../input/shp/comuni_istat_2020_wgs84.shp\")[['COMUNE','PRO_COM','geometry']]\n",
    "gdf_comuni.rename(columns={'PRO_COM':'CodIstat','COMUNE':'Comune'}, inplace=True)\n",
    "# gdf_comuni.head(3)"
   ]
  },
  {
   "cell_type": "markdown",
   "metadata": {},
   "source": [
    "### Focolai puliti\n",
    "\n",
    "importa i focolai già ripuliti dal precedente script"
   ]
  },
  {
   "cell_type": "code",
   "execution_count": 3,
   "metadata": {},
   "outputs": [],
   "source": [
    "df_focolai = pd.read_excel(r\"../input/xls/wn_clean.xlsx\")\n",
    "# df_focolai.head(3)"
   ]
  },
  {
   "cell_type": "markdown",
   "metadata": {},
   "source": [
    "### Aggregazioni (anno 2018)"
   ]
  },
  {
   "cell_type": "code",
   "execution_count": 4,
   "metadata": {},
   "outputs": [],
   "source": [
    "df_focolai = df_focolai[[\"DataSospetto\",\"IdFocolaio\",\"CodIstat\",\"Specie\",\"Categorie\",\"Sierotipo\",\"Regione\",\"Prov\"]].query(\"DataSospetto >= '2008-01-01' & DataSospetto <= '2018-12-31'\")\n",
    "df_aggregato = df_focolai.groupby(['DataSospetto','CodIstat','Categorie','Regione','Prov'])[\"CodIstat\"].count().reset_index(name=\"count\")\n",
    "distribuzione = gdf_comuni.merge(df_aggregato, on='CodIstat')"
   ]
  },
  {
   "cell_type": "markdown",
   "metadata": {},
   "source": [
    "### Esportazione"
   ]
  },
  {
   "cell_type": "code",
   "execution_count": 5,
   "metadata": {},
   "outputs": [],
   "source": [
    "distribuzione.to_file(r\"../output/distr_wn_comune.geojson\", driver='GeoJSON')"
   ]
  },
  {
   "cell_type": "code",
   "execution_count": null,
   "metadata": {},
   "outputs": [],
   "source": []
  }
 ],
 "metadata": {
  "kernelspec": {
   "display_name": "report_wn_kernel",
   "language": "python",
   "name": "report_wn_kernel"
  },
  "language_info": {
   "codemirror_mode": {
    "name": "ipython",
    "version": 3
   },
   "file_extension": ".py",
   "mimetype": "text/x-python",
   "name": "python",
   "nbconvert_exporter": "python",
   "pygments_lexer": "ipython3",
   "version": "3.7.7"
  }
 },
 "nbformat": 4,
 "nbformat_minor": 4
}
