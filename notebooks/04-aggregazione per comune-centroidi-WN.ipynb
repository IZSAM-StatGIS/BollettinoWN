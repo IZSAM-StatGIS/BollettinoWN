{
 "cells": [
  {
   "cell_type": "code",
   "execution_count": 1,
   "metadata": {},
   "outputs": [],
   "source": [
    "import pandas as pd\n",
    "import geopandas as gpd\n",
    "import datetime as dt\n",
    "import locale\n",
    "import os"
   ]
  },
  {
   "cell_type": "markdown",
   "metadata": {},
   "source": [
    "### Comuni ISTAT 2020"
   ]
  },
  {
   "cell_type": "code",
   "execution_count": 2,
   "metadata": {},
   "outputs": [],
   "source": [
    "gdf_comuni = gpd.read_file(r\"../input/shp/centroidi_comuni_bdn.shp\")[['ISTAT','geometry']]\n",
    "gdf_comuni.rename(columns={'ISTAT':'CodIstat'}, inplace=True)\n",
    "gdf_comuni[\"CodIstat\"] = gdf_comuni[\"CodIstat\"].astype(int)\n",
    "# gdf_comuni.head(5)"
   ]
  },
  {
   "cell_type": "markdown",
   "metadata": {},
   "source": [
    "### Focolai puliti\n",
    "\n",
    "importa i focolai già ripuliti dal precedente script"
   ]
  },
  {
   "cell_type": "code",
   "execution_count": 3,
   "metadata": {},
   "outputs": [],
   "source": [
    "df_focolai = pd.read_excel(r\"../output/focolai_wn.xlsx\")\n",
    "# df_focolai.head(3)"
   ]
  },
  {
   "cell_type": "markdown",
   "metadata": {},
   "source": [
    "### Aggregazione (dal 1/1/2008 al 31/12/2018)"
   ]
  },
  {
   "cell_type": "code",
   "execution_count": 4,
   "metadata": {},
   "outputs": [],
   "source": [
    "df_focolai = df_focolai[[\"DataSospetto\",\"IdFocolaio\",\"CodIstat\",\"Specie\",\"Categorie\",\"Sierotipo\",\"Regione\",\"Prov\",\"Comune\"]].query(\"DataSospetto >= '2008-01-01' & DataSospetto <= '2018-12-31'\")\n",
    "df_aggregato = df_focolai.groupby(['DataSospetto','CodIstat','Categorie','Regione','Prov','Comune'])[\"CodIstat\"].count().reset_index(name=\"count\")\n",
    "distribuzione = gdf_comuni.merge(df_aggregato, on='CodIstat')"
   ]
  },
  {
   "cell_type": "markdown",
   "metadata": {},
   "source": [
    "### Esportazione"
   ]
  },
  {
   "cell_type": "code",
   "execution_count": 5,
   "metadata": {},
   "outputs": [],
   "source": [
    "distribuzione.to_file(r\"../output/distr_wn_centroidi.geojson\", driver='GeoJSON')"
   ]
  },
  {
   "cell_type": "code",
   "execution_count": 6,
   "metadata": {},
   "outputs": [
    {
     "data": {
      "text/html": [
       "<div>\n",
       "<style scoped>\n",
       "    .dataframe tbody tr th:only-of-type {\n",
       "        vertical-align: middle;\n",
       "    }\n",
       "\n",
       "    .dataframe tbody tr th {\n",
       "        vertical-align: top;\n",
       "    }\n",
       "\n",
       "    .dataframe thead th {\n",
       "        text-align: right;\n",
       "    }\n",
       "</style>\n",
       "<table border=\"1\" class=\"dataframe\">\n",
       "  <thead>\n",
       "    <tr style=\"text-align: right;\">\n",
       "      <th></th>\n",
       "      <th>CodIstat</th>\n",
       "      <th>geometry</th>\n",
       "      <th>DataSospetto</th>\n",
       "      <th>Categorie</th>\n",
       "      <th>Regione</th>\n",
       "      <th>Prov</th>\n",
       "      <th>Comune</th>\n",
       "      <th>count</th>\n",
       "    </tr>\n",
       "  </thead>\n",
       "  <tbody>\n",
       "    <tr>\n",
       "      <th>0</th>\n",
       "      <td>23010</td>\n",
       "      <td>POINT (11.36684 45.20762)</td>\n",
       "      <td>2009-11-04</td>\n",
       "      <td>EQUIDI</td>\n",
       "      <td>VENETO</td>\n",
       "      <td>VR</td>\n",
       "      <td>BOSCHI SANT'ANNA</td>\n",
       "      <td>1</td>\n",
       "    </tr>\n",
       "    <tr>\n",
       "      <th>1</th>\n",
       "      <td>6015</td>\n",
       "      <td>POINT (8.44978 44.82829)</td>\n",
       "      <td>2016-09-27</td>\n",
       "      <td>UCCELLI TARGET</td>\n",
       "      <td>PIEMONTE</td>\n",
       "      <td>AL</td>\n",
       "      <td>BERGAMASCO</td>\n",
       "      <td>1</td>\n",
       "    </tr>\n",
       "    <tr>\n",
       "      <th>2</th>\n",
       "      <td>38005</td>\n",
       "      <td>POINT (12.12810 44.85816)</td>\n",
       "      <td>2008-09-15</td>\n",
       "      <td>AVICOLI</td>\n",
       "      <td>EMILIA ROMAGNA</td>\n",
       "      <td>FE</td>\n",
       "      <td>CODIGORO</td>\n",
       "      <td>1</td>\n",
       "    </tr>\n",
       "    <tr>\n",
       "      <th>3</th>\n",
       "      <td>38005</td>\n",
       "      <td>POINT (12.12810 44.85816)</td>\n",
       "      <td>2008-09-23</td>\n",
       "      <td>EQUIDI</td>\n",
       "      <td>EMILIA ROMAGNA</td>\n",
       "      <td>FE</td>\n",
       "      <td>CODIGORO</td>\n",
       "      <td>1</td>\n",
       "    </tr>\n",
       "    <tr>\n",
       "      <th>4</th>\n",
       "      <td>38005</td>\n",
       "      <td>POINT (12.12810 44.85816)</td>\n",
       "      <td>2008-09-29</td>\n",
       "      <td>EQUIDI</td>\n",
       "      <td>EMILIA ROMAGNA</td>\n",
       "      <td>FE</td>\n",
       "      <td>CODIGORO</td>\n",
       "      <td>1</td>\n",
       "    </tr>\n",
       "  </tbody>\n",
       "</table>\n",
       "</div>"
      ],
      "text/plain": [
       "   CodIstat                   geometry DataSospetto       Categorie  \\\n",
       "0     23010  POINT (11.36684 45.20762)   2009-11-04          EQUIDI   \n",
       "1      6015   POINT (8.44978 44.82829)   2016-09-27  UCCELLI TARGET   \n",
       "2     38005  POINT (12.12810 44.85816)   2008-09-15         AVICOLI   \n",
       "3     38005  POINT (12.12810 44.85816)   2008-09-23          EQUIDI   \n",
       "4     38005  POINT (12.12810 44.85816)   2008-09-29          EQUIDI   \n",
       "\n",
       "          Regione Prov            Comune  count  \n",
       "0          VENETO   VR  BOSCHI SANT'ANNA      1  \n",
       "1        PIEMONTE   AL        BERGAMASCO      1  \n",
       "2  EMILIA ROMAGNA   FE          CODIGORO      1  \n",
       "3  EMILIA ROMAGNA   FE          CODIGORO      1  \n",
       "4  EMILIA ROMAGNA   FE          CODIGORO      1  "
      ]
     },
     "execution_count": 6,
     "metadata": {},
     "output_type": "execute_result"
    }
   ],
   "source": [
    "distribuzione.head(5)"
   ]
  },
  {
   "cell_type": "code",
   "execution_count": null,
   "metadata": {},
   "outputs": [],
   "source": []
  }
 ],
 "metadata": {
  "kernelspec": {
   "display_name": "report_wn_kernel",
   "language": "python",
   "name": "report_wn_kernel"
  },
  "language_info": {
   "codemirror_mode": {
    "name": "ipython",
    "version": 3
   },
   "file_extension": ".py",
   "mimetype": "text/x-python",
   "name": "python",
   "nbconvert_exporter": "python",
   "pygments_lexer": "ipython3",
   "version": "3.7.7"
  }
 },
 "nbformat": 4,
 "nbformat_minor": 4
}
