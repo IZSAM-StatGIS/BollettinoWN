{
 "cells": [
  {
   "cell_type": "code",
   "execution_count": 2,
   "metadata": {},
   "outputs": [],
   "source": [
    "import pandas as pd\n",
    "import geopandas as gpd"
   ]
  },
  {
   "cell_type": "code",
   "execution_count": 3,
   "metadata": {},
   "outputs": [],
   "source": [
    "# Carica Excel\n",
    "df = pd.read_excel(r\"../input/dati bollettino rev1.FI.xlsx\")\n",
    "df.query('DataSospetto >= \"2008-01-01\" & DataSospetto <= \"2018-12-31\"', inplace=True)\n",
    "\n",
    "df['AnnoSospetto'] = pd.DatetimeIndex(df['DataSospetto']).year\n",
    "df['MeseSospetto'] = pd.DatetimeIndex(df['DataSospetto']).month\n",
    "\n",
    "# Cancella colonne non utili\n",
    "df.drop(columns=['STATO_DEL_RECORD', 'AnnoFocolaioMinsal','NumFocolaioMinsal',\n",
    "                 'DataConferma','DataEstinzione','DataInizioSintomi','CodComune',\n",
    "                 'Malattia','NumCapiAbbattuti', 'NumCapiConSintomi', 'NumCapiDistrutti',\n",
    "                 'NumCapiGuariti', 'NumCapiMalati', 'NumCapiMorti', 'NumCapiPresenti',\n",
    "                 'TotaleMorti'], inplace=True)\n",
    "\n",
    "# Visualizza campione\n",
    "df.sample(3)"
   ]
  },
  {
   "cell_type": "code",
   "execution_count": 4,
   "metadata": {},
   "outputs": [],
   "source": [
    "# Aggrega i dati ed esporta il dataset aggregato in CSV\n",
    "df_grouped = df.groupby(['AnnoSospetto','CodIstat','Regione','Prov','Comune','Categorie']).count()[\"IdFocolaio\"].reset_index(name=\"NumFocolai\")\n",
    "# df_grouped.to_csv('grouped.csv', index=False)"
   ]
  },
  {
   "cell_type": "code",
   "execution_count": 6,
   "metadata": {},
   "outputs": [],
   "source": [
    "# Visualizza una porzione del dataset aggregato\n",
    "# equidi_2018 = df_grouped.query(\"AnnoSospetto == '2018' & Categorie == 'EQUIDI'\").sort_values(by='NumFocolai', ascending = False)\n",
    "# equidi_2018.head(10)"
   ]
  },
  {
   "cell_type": "code",
   "execution_count": 14,
   "metadata": {},
   "outputs": [],
   "source": [
    "# Carica lo shapefile dei Comuni e modifica i campi\n",
    "gdf_comuni = gpd.read_file(r\"../input/comuni_istat_2020_wgs84.shp\")[['PRO_COM','geometry']]\n",
    "gdf_comuni.rename(columns={'PRO_COM':'CodIstat'}, inplace=True)"
   ]
  },
  {
   "cell_type": "code",
   "execution_count": 18,
   "metadata": {},
   "outputs": [],
   "source": [
    "# Join e creazione output\n",
    "distribuzione = gdf_comuni.merge(df_grouped, on='CodIstat')\n",
    "# distribuzione.sample(5)\n",
    "# Esportazione\n",
    "distribuzione.to_file(r\"../output/distribuzione_per_comune_test.geojson\", driver='GeoJSON')"
   ]
  },
  {
   "cell_type": "code",
   "execution_count": null,
   "metadata": {},
   "outputs": [],
   "source": []
  }
 ],
 "metadata": {
  "kernelspec": {
   "display_name": "Python 3",
   "language": "python",
   "name": "python3"
  },
  "language_info": {
   "codemirror_mode": {
    "name": "ipython",
    "version": 3
   },
   "file_extension": ".py",
   "mimetype": "text/x-python",
   "name": "python",
   "nbconvert_exporter": "python",
   "pygments_lexer": "ipython3",
   "version": "3.8.2"
  }
 },
 "nbformat": 4,
 "nbformat_minor": 2
}
